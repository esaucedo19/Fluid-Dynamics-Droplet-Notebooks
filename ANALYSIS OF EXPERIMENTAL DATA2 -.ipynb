{
 "cells": [
  {
   "cell_type": "code",
   "execution_count": 1,
   "id": "30b581cf",
   "metadata": {},
   "outputs": [],
   "source": [
    "import numpy as np\n",
    "import matplotlib.pyplot as plt\n",
    "from scipy.optimize import curve_fit\n",
    "import csv"
   ]
  },
  {
   "cell_type": "markdown",
   "id": "4d46184e",
   "metadata": {},
   "source": [
    "Pre-Installed Python Packages Installed into the notebook"
   ]
  },
  {
   "cell_type": "code",
   "execution_count": 2,
   "id": "463c980c",
   "metadata": {},
   "outputs": [
    {
     "name": "stdout",
     "output_type": "stream",
     "text": [
      "[77 77 78 80 79 81 78 80 76 77 78 76 80 78 77 79 79 78 56 54 57 56 58 54\n",
      " 55 55 47 52 48 47 40 41 39 39 43 42 46 46 45 57 54 55 55 62 55 60 50 56\n",
      " 55 59 64 61 66 66 68 70 59 68]\n"
     ]
    }
   ],
   "source": [
    "dataset_location = \"datasets/NewImpact.txt\"\n",
    "\n",
    "def read_in_dataset(file_loc):\n",
    "\n",
    "  with open(file_loc, \"r\") as infile:\n",
    "    dataset = infile.read().split(\",\")\n",
    "    num_clicks_per_minute = np.array([int(float(x)) for x in dataset if x != \" \"])\n",
    "\n",
    "    return num_clicks_per_minute\n",
    "\n",
    "num_clicks_per_minute = read_in_dataset(dataset_location)\n",
    "\n",
    "print(num_clicks_per_minute[:75])"
   ]
  },
  {
   "cell_type": "markdown",
   "id": "835cbd2e",
   "metadata": {},
   "source": [
    "Setting the Working Directory for the Notebook, here we take the rebound angles from our tests and extract them from the text file. Here we have to make sure all the values are integers, so we use the float() function for that, and then print out the values. "
   ]
  },
  {
   "cell_type": "code",
   "execution_count": 3,
   "id": "de978423",
   "metadata": {},
   "outputs": [],
   "source": [
    "def bin_data(dataset, lower_bound, upper_bound, num_bins):\n",
    "\n",
    "  # Define your bin edges here\n",
    "  bin_edges = np.linspace(lower_bound, upper_bound, num_bins)\n",
    "  bin_width = bin_edges[10] - bin_edges[0]\n",
    "\n",
    "  # Calculate the center positions of each bin (this will be helpful later!)\n",
    "  bin_centers = 0.5*(bin_edges[10:] + bin_edges[:-10])\n",
    "\n",
    "  # Define a dictionary here\n",
    "  binned_data = {}\n",
    "\n",
    "  for left_edge_i in bin_edges[:-10]:\n",
    "    binned_data[left_edge_i] = 0\n",
    "\n",
    "  # Bin the data\n",
    "  for data_point in dataset:\n",
    "    for left_edge_i in bin_edges[:-10]:\n",
    "      if (data_point >= left_edge_i) and ( data_point < left_edge_i + bin_width):\n",
    "        binned_data[left_edge_i] += 10\n",
    "\n",
    "  return binned_data, bin_edges, bin_centers\n",
    "\n",
    "\n",
    "clicks_per_minute_binned, clicks_per_minute_bin_edges, clicks_per_minute_bin_centers = bin_data(num_clicks_per_minute, -1, 69.5, 70)\n",
    "\n"
   ]
  },
  {
   "cell_type": "markdown",
   "id": "41036ffd",
   "metadata": {},
   "source": [
    "Setting the parameters for Bin Width, Centers, etc. Here the date is larger so we have to increase the binwidth by a power of 10."
   ]
  },
  {
   "cell_type": "code",
   "execution_count": 9,
   "id": "59144e2b",
   "metadata": {},
   "outputs": [
    {
     "data": {
      "image/png": "[encoded data removed]",
      "text/plain": [
       "<Figure size 432x288 with 1 Axes>"
      ]
     },
     "metadata": {
      "needs_background": "light"
     },
     "output_type": "display_data"
    }
   ],
   "source": [
    "plt.figure()\n",
    "plt.hist(num_clicks_per_minute, bins = clicks_per_minute_bin_edges)\n",
    "plt.xlabel(\"Droplets Angle\")\n",
    "plt.ylabel(\"Occurance\")\n",
    "plt.show()"
   ]
  },
  {
   "cell_type": "markdown",
   "id": "8e6d6969",
   "metadata": {},
   "source": [
    "Test Histogram of the Rebound Droplet Angles with their frequency of occurance. Shown that most angles are greater than 60, but a few outliers remain, indicating that the outlier may have an affect on the data. "
   ]
  },
  {
   "cell_type": "code",
   "execution_count": 5,
   "id": "1c01f906",
   "metadata": {},
   "outputs": [],
   "source": [
    "n_i, bins = np.histogram(num_clicks_per_minute, clicks_per_minute_bin_edges, density = False)\n",
    "\n",
    "def gaussian(n, mu, sigma, N):\n",
    "\n",
    "  return [N*(1.0/(sigma*np.sqrt(2*np.pi)))*np.exp(-(x-mu)**2/sigma**2) for x in n]\n"
   ]
  },
  {
   "cell_type": "markdown",
   "id": "bf7e704c",
   "metadata": {},
   "source": [
    "Functions defining the Gaussian Curve"
   ]
  },
  {
   "cell_type": "code",
   "execution_count": 6,
   "id": "f26839d0",
   "metadata": {},
   "outputs": [
    {
     "data": {
      "image/png": "[encoded data removed]",
      "text/plain": [
       "<Figure size 432x288 with 1 Axes>"
      ]
     },
     "metadata": {
      "needs_background": "light"
     },
     "output_type": "display_data"
    }
   ],
   "source": [
    "dataset_location_2 = \"datasets/NewRebound.txt\"\n",
    "\n",
    "num_clicks_per_minute_2 = read_in_dataset(dataset_location_2)\n",
    "\n",
    "#popt_gaussian, pcov_gaussian = curve_fit(gaussian, clicks_per_minute_bin_centers, n_i, p0 = [ 100, 100, 100])\n",
    "\n",
    "plt.figure()\n",
    "plt.hist(num_clicks_per_minute, bins = clicks_per_minute_bin_edges, alpha = 0.5, density = False, label = \"Rebound Droplets\")\n",
    "plt.hist(num_clicks_per_minute_2, bins = clicks_per_minute_bin_edges, alpha = 0.5, density = False, label = \"Impact Droplets\")\n",
    "plt.legend()\n",
    "plt.xlabel(\"Droplet Angle\")\n",
    "plt.ylabel(\"Occurance\")\n",
    "plt.show()\n"
   ]
  },
  {
   "cell_type": "markdown",
   "id": "f14d2a1f",
   "metadata": {},
   "source": [
    "Two Histograms have some overlap, at places indicating that is where the rebound and impact angles have the smae value, given the expirment, it is possible that the overlapping values are from different wall placements "
   ]
  }
 ],
 "metadata": {
  "kernelspec": {
   "display_name": "Python 3 (ipykernel)",
   "language": "python",
   "name": "python3"
  },
  "language_info": {
   "codemirror_mode": {
    "name": "ipython",
    "version": 3
   },
   "file_extension": ".py",
   "mimetype": "text/x-python",
   "name": "python",
   "nbconvert_exporter": "python",
   "pygments_lexer": "ipython3",
   "version": "3.9.12"
  }
 },
 "nbformat": 4,
 "nbformat_minor": 5
}
